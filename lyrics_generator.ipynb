{
  "nbformat": 4,
  "nbformat_minor": 0,
  "metadata": {
    "colab": {
      "name": "lyrics-generator-v1.ipynb",
      "provenance": [],
      "toc_visible": true
    },
    "kernelspec": {
      "name": "python3",
      "display_name": "Python 3"
    },
    "language_info": {
      "name": "python"
    },
    "accelerator": "GPU"
  },
  "cells": [
    {
      "cell_type": "code",
      "metadata": {
        "id": "5G1mV82X_gau",
        "colab": {
          "base_uri": "https://localhost:8080/"
        },
        "outputId": "8411e5cb-e583-4d18-abb2-b392f415eb94"
      },
      "source": [
        "%tensorflow_version 1.x"
      ],
      "execution_count": 2,
      "outputs": [
        {
          "output_type": "stream",
          "text": [
            "TensorFlow 1.x selected.\n"
          ],
          "name": "stdout"
        }
      ]
    },
    {
      "cell_type": "code",
      "metadata": {
        "colab": {
          "base_uri": "https://localhost:8080/"
        },
        "id": "tCjlwXhY_owa",
        "outputId": "453aafd2-0923-4d5a-f5d6-ca66575532b5"
      },
      "source": [
        "!pip install gpt-2-simple"
      ],
      "execution_count": 3,
      "outputs": [
        {
          "output_type": "stream",
          "text": [
            "Collecting gpt-2-simple\n",
            "  Downloading https://files.pythonhosted.org/packages/e8/c9/44fe420225244ab9e3f2938a1d11651681078cf72f7444c66d0ea49f1320/gpt_2_simple-0.7.2.tar.gz\n",
            "Requirement already satisfied: regex in /usr/local/lib/python3.7/dist-packages (from gpt-2-simple) (2019.12.20)\n",
            "Requirement already satisfied: requests in /usr/local/lib/python3.7/dist-packages (from gpt-2-simple) (2.23.0)\n",
            "Requirement already satisfied: tqdm in /usr/local/lib/python3.7/dist-packages (from gpt-2-simple) (4.41.1)\n",
            "Requirement already satisfied: numpy in /usr/local/lib/python3.7/dist-packages (from gpt-2-simple) (1.19.5)\n",
            "Collecting toposort\n",
            "  Downloading https://files.pythonhosted.org/packages/f2/7d/55784e894ee0cde2474fb977ffd1651e74e840a9f92e1d847f7e3115d5ec/toposort-1.6-py2.py3-none-any.whl\n",
            "Requirement already satisfied: idna<3,>=2.5 in /usr/local/lib/python3.7/dist-packages (from requests->gpt-2-simple) (2.10)\n",
            "Requirement already satisfied: certifi>=2017.4.17 in /usr/local/lib/python3.7/dist-packages (from requests->gpt-2-simple) (2020.12.5)\n",
            "Requirement already satisfied: chardet<4,>=3.0.2 in /usr/local/lib/python3.7/dist-packages (from requests->gpt-2-simple) (3.0.4)\n",
            "Requirement already satisfied: urllib3!=1.25.0,!=1.25.1,<1.26,>=1.21.1 in /usr/local/lib/python3.7/dist-packages (from requests->gpt-2-simple) (1.24.3)\n",
            "Building wheels for collected packages: gpt-2-simple\n",
            "  Building wheel for gpt-2-simple (setup.py) ... \u001b[?25l\u001b[?25hdone\n",
            "  Created wheel for gpt-2-simple: filename=gpt_2_simple-0.7.2-cp37-none-any.whl size=23621 sha256=57a198f1ce36fd2755742ede4c21c37bc6648155d179febad3ec593e18c54558\n",
            "  Stored in directory: /root/.cache/pip/wheels/68/1d/15/c87a4302a6c7273ce1b4f282bec3c6877fb2f521535d87d30f\n",
            "Successfully built gpt-2-simple\n",
            "Installing collected packages: toposort, gpt-2-simple\n",
            "Successfully installed gpt-2-simple-0.7.2 toposort-1.6\n"
          ],
          "name": "stdout"
        }
      ]
    },
    {
      "cell_type": "code",
      "metadata": {
        "id": "QzDQLgKU_pKo",
        "colab": {
          "base_uri": "https://localhost:8080/"
        },
        "outputId": "208ff551-b04c-45ab-f489-61c737411231"
      },
      "source": [
        "import gpt_2_simple as gpt2_simple\n",
        "from datetime import datetime"
      ],
      "execution_count": 4,
      "outputs": [
        {
          "output_type": "stream",
          "text": [
            "WARNING:tensorflow:\n",
            "The TensorFlow contrib module will not be included in TensorFlow 2.0.\n",
            "For more information, please see:\n",
            "  * https://github.com/tensorflow/community/blob/master/rfcs/20180907-contrib-sunset.md\n",
            "  * https://github.com/tensorflow/addons\n",
            "  * https://github.com/tensorflow/io (for I/O related ops)\n",
            "If you depend on functionality not listed there, please file an issue.\n",
            "\n"
          ],
          "name": "stdout"
        }
      ]
    },
    {
      "cell_type": "code",
      "metadata": {
        "id": "PRfVGdIMFEdP"
      },
      "source": [
        "model='124M'\n",
        "#model='355M'\n",
        "#model='774M'"
      ],
      "execution_count": 6,
      "outputs": []
    },
    {
      "cell_type": "code",
      "metadata": {
        "colab": {
          "base_uri": "https://localhost:8080/"
        },
        "id": "jmuccYbi_pNS",
        "outputId": "634f52a1-cc74-41c3-875e-402a4b1b8ebc"
      },
      "source": [
        "gpt2_simple.download_gpt2(model_name=model)"
      ],
      "execution_count": 7,
      "outputs": [
        {
          "output_type": "stream",
          "text": [
            "Fetching checkpoint: 1.05Mit [00:00, 377Mit/s]                                                      \n",
            "Fetching encoder.json: 1.05Mit [00:01, 982kit/s]\n",
            "Fetching hparams.json: 1.05Mit [00:00, 390Mit/s]                                                    \n",
            "Fetching model.ckpt.data-00000-of-00001: 498Mit [04:23, 1.89Mit/s]\n",
            "Fetching model.ckpt.index: 1.05Mit [00:00, 300Mit/s]                                                \n",
            "Fetching model.ckpt.meta: 1.05Mit [00:00, 1.14Mit/s]\n",
            "Fetching vocab.bpe: 1.05Mit [00:00, 1.19Mit/s]\n"
          ],
          "name": "stderr"
        }
      ]
    },
    {
      "cell_type": "code",
      "metadata": {
        "id": "dIfo5n_q_pQC"
      },
      "source": [
        "from google.colab import files"
      ],
      "execution_count": 8,
      "outputs": []
    },
    {
      "cell_type": "code",
      "metadata": {
        "colab": {
          "base_uri": "https://localhost:8080/"
        },
        "id": "0pwjGUvM_pS8",
        "outputId": "cf7668bc-3783-4762-d59e-e32d497c0f6c"
      },
      "source": [
        "gpt2_simple.mount_gdrive()"
      ],
      "execution_count": 9,
      "outputs": [
        {
          "output_type": "stream",
          "text": [
            "Mounted at /content/drive\n"
          ],
          "name": "stdout"
        }
      ]
    },
    {
      "cell_type": "code",
      "metadata": {
        "id": "CROqiw00_pWC"
      },
      "source": [
        "sess = gpt2_simple.start_tf_sess()"
      ],
      "execution_count": 10,
      "outputs": []
    },
    {
      "cell_type": "code",
      "metadata": {
        "colab": {
          "base_uri": "https://localhost:8080/"
        },
        "id": "I9inENoY_09A",
        "outputId": "e4160e6c-17b1-4154-b1ef-c4e6eb635fcf"
      },
      "source": [
        "gpt2_simple.finetune(sess, dataset=\"mac_miller.txt\", steps=600, model_name=model,\n",
        "                     sample_every=200, save_every=600, print_every=10, restore_from='fresh')"
      ],
      "execution_count": 11,
      "outputs": [
        {
          "output_type": "stream",
          "text": [
            "WARNING:tensorflow:From /usr/local/lib/python3.7/dist-packages/gpt_2_simple/src/sample.py:17: where (from tensorflow.python.ops.array_ops) is deprecated and will be removed in a future version.\n",
            "Instructions for updating:\n",
            "Use tf.where in 2.0, which has the same broadcast rule as np.where\n",
            "Loading checkpoint models/124M/model.ckpt\n",
            "INFO:tensorflow:Restoring parameters from models/124M/model.ckpt\n"
          ],
          "name": "stdout"
        },
        {
          "output_type": "stream",
          "text": [
            "\r  0%|          | 0/1 [00:00<?, ?it/s]"
          ],
          "name": "stderr"
        },
        {
          "output_type": "stream",
          "text": [
            "Loading dataset...\n"
          ],
          "name": "stdout"
        },
        {
          "output_type": "stream",
          "text": [
            "100%|██████████| 1/1 [00:00<00:00,  2.44it/s]\n"
          ],
          "name": "stderr"
        },
        {
          "output_type": "stream",
          "text": [
            "dataset has 46762 tokens\n",
            "Training...\n",
            "[10 | 52.65] loss=3.30 avg=3.30\n",
            "[20 | 97.18] loss=3.39 avg=3.34\n",
            "[30 | 141.62] loss=2.58 avg=3.08\n",
            "[40 | 186.05] loss=2.73 avg=3.00\n",
            "[50 | 230.48] loss=2.21 avg=2.84\n",
            "[60 | 274.91] loss=2.15 avg=2.72\n",
            "[70 | 319.37] loss=1.90 avg=2.60\n",
            "[80 | 363.78] loss=1.88 avg=2.50\n",
            "[90 | 408.20] loss=1.34 avg=2.37\n",
            "[100 | 452.68] loss=1.35 avg=2.26\n",
            "[110 | 497.11] loss=1.11 avg=2.15\n",
            "[120 | 541.51] loss=0.93 avg=2.04\n",
            "[130 | 585.98] loss=0.62 avg=1.93\n",
            "[140 | 630.40] loss=0.56 avg=1.82\n",
            "[150 | 674.87] loss=0.29 avg=1.71\n",
            "[160 | 719.33] loss=0.68 avg=1.64\n",
            "[170 | 763.74] loss=0.13 avg=1.55\n",
            "[180 | 808.16] loss=0.16 avg=1.46\n",
            "[190 | 852.62] loss=0.12 avg=1.39\n",
            "[200 | 897.29] loss=0.07 avg=1.31\n",
            "======== SAMPLE 1 ========\n",
            " pussy was so strong (Slap her!)\n",
            "I thought I had it figured out, shit, it's only a matter of time\n",
            "\n",
            "Until then, I'm stuck inside of this nasty man\n",
            "I'll always wonder what happened to me, lost inside\n",
            "I told my story, you'll never know\n",
            "And if there's a bitch in the country now, she probably too can relate\n",
            "She probably won't forgive us, but she'll probably give us a ring\n",
            "The best memories come first, of course\n",
            "I tell that story to the world, even if it's at the eleventh hour\n",
            "I moved up from place to place, trying to find my voice\n",
            "Now I keep getting older, and that just doesn't feel right\n",
            "I'm having trouble sleeping, trying to think of some better times\n",
            "\n",
            "Until then, I'm stuck inside of this nasty man\n",
            "I'll always wonder what happened to me, lost inside\n",
            "I told my story, you'll never know\n",
            "And if there's a bitch in the country now, she probably too can relate\n",
            "She probably won't forgive us, but she'll probably give us a ring\n",
            "The best memories come first, of course\n",
            "\n",
            "Until then, I'm stuck inside of this nasty man\n",
            "He wanted to take my money, told me I couldn't do anything\n",
            "Then he showed up at my door, knocked, knocked again\n",
            "I tried to pretend I didn't see him, I thought he was crazy\n",
            "Then he came in, dressed in all black, walked in and started talking shit\n",
            "All the bitches in the world are little bitches, what are your fetishes?\n",
            "Good morning, human, good morning\n",
            "\n",
            "Um, good morning, human\"\n",
            "You like what you do?\n",
            "Yeah, better put it in the paper or I'll steal it\n",
            "When I get home, I'll probably just type that name\n",
            "I woke up with a nasty odor all around, I need to get it cleaned up\n",
            "Clean up, human, get the paper and pen   \n",
            "Yeah, better bring your hands, your feet is bloody lousy\n",
            "I knocked, called the Boss, you better get your ass serviced\n",
            "Come here just like you was waiting for me\n",
            "My lady, she like it when I fuck her\n",
            "When I'm inside your pussy, I good morning\n",
            "Hey, aww, that pussy swell ㅜToo Big (I Will Make You Goooood)\n",
            "\n",
            "Yeah, better bring your hands, your feet is bloody lousy\n",
            "Hey, aww, that pussy swell ㅜToo Big (I Will Make You Goooood)\n",
            "Whoa, what do we have here?\n",
            "Someone like you who like to take charge\n",
            "Yeah, better bring your hands, your feet is bloody lousy\n",
            "Whoa, what do we have here?\n",
            "Someone like you who like to take charge\n",
            "\n",
            "Know what I'm talking about, here's a plan\n",
            "Okay, it's only for now, no fucks, there's nothing we can do\n",
            "\n",
            "Just one more time, give or take a day, and you will not be missed\n",
            "\n",
            "Someone like you who like to take charge\n",
            "Yeah, better bring your hands, your feet is bloody lousy\n",
            "Someone like you who like to take charge\n",
            "You need to show them that you are my leader\n",
            "\n",
            "A picture like a pic, you can show them where the fuck you got that\n",
            "Just a picture, a pic, a pic\n",
            "Take a picture, give or take a stick\n",
            "They will be looking at you like (wait what?)\n",
            "Taking a picture, a pic, a pic\n",
            "\n",
            "Looking back, thinking about you, it's painful, it's painful to be alive\n",
            "One more time, give or take a day, and they all going well\n",
            "You just a bunch of piss and a stick\n",
            "You will be getting calls and e-mails every day\n",
            "Everything you think about who you really are\n",
            "Just show me where you at, I'll be waiting\n",
            "Tell me where you at, I'll be waiting\n",
            "Tell me where you at, I'll be waiting\n",
            "\n",
            "Someone like you who like to take charge\n",
            "Yeah\n",
            "Better bring your hands, your feet is bloody lousy\n",
            "Someone like you who like to take charge\n",
            "Yeah, better bring your hands\n",
            "Okay now, I'm taking care of you\n",
            "Make yourself at home, you an infant\n",
            "I gave you everything you want, now give or take a night\n",
            "\n",
            "Someone like you who like to take charge\n",
            "Yeah, better bring your hands, your feet is bloody lousy\n",
            "Someone like you who like to take charge\n",
            "Yeah, better bring your hands\n",
            "\n",
            "Someone like you who like to take charge\n",
            "\n",
            "Someone like you who like to take charge\n",
            "(Let me just make love to)\n",
            "Someone like you who like to take charge\n",
            "Yeah, better bring your hands, your feet is bloody lousy\n",
            "Someone like you who like to take charge\n",
            "Yeah, better bring your hands, y\n",
            "\n",
            "[210 | 960.05] loss=0.09 avg=1.25\n",
            "[220 | 1004.77] loss=0.08 avg=1.19\n",
            "[230 | 1049.44] loss=0.07 avg=1.14\n",
            "[240 | 1094.09] loss=0.06 avg=1.09\n",
            "[250 | 1138.68] loss=0.07 avg=1.04\n",
            "[260 | 1183.27] loss=0.06 avg=1.00\n",
            "[270 | 1227.75] loss=0.06 avg=0.96\n",
            "[280 | 1272.30] loss=0.06 avg=0.92\n",
            "[290 | 1316.81] loss=0.06 avg=0.89\n",
            "[300 | 1361.29] loss=0.04 avg=0.86\n",
            "[310 | 1405.79] loss=0.04 avg=0.82\n",
            "[320 | 1450.36] loss=0.04 avg=0.80\n",
            "[330 | 1494.85] loss=0.04 avg=0.77\n",
            "[340 | 1539.33] loss=0.03 avg=0.74\n",
            "[350 | 1583.78] loss=0.05 avg=0.72\n",
            "[360 | 1628.19] loss=0.04 avg=0.70\n",
            "[370 | 1672.70] loss=0.04 avg=0.68\n",
            "[380 | 1717.27] loss=0.04 avg=0.66\n",
            "[390 | 1761.90] loss=0.04 avg=0.64\n",
            "[400 | 1806.59] loss=0.04 avg=0.62\n",
            "======== SAMPLE 1 ========\n",
            "\n",
            "(I know you don't want nothin' to do with me)\n",
            "I can't keep on losing you\n",
            "I can't keep on losing you\n",
            "\n",
            "You can't keep losing you, you can't keep losing you\n",
            "Can't keep on losing you, you can't keep losing you\n",
            "Can't keep on losing you, you can't keep losing you\n",
            "Can't keep on losing you, you can't keep losing you\n",
            "Can't keep on losing you, you can't keep losing you\n",
            "Uh uh\n",
            "Close my eyes…\n",
            "\n",
            "I can't keep on losing you, you can't keep losing you\n",
            "Close my eyes shut, no need to open up\n",
            "I can't keep on losing you, you can't keep losing you\n",
            "Close my eyes shut, no need to close up\n",
            "I can't keep on losing you, you can't keep losing you\n",
            "Close my eyes shut, no need to close up\n",
            "I can't keep on losing you, you can't keep losing you\n",
            "Close my eyes shut, no need to close up\n",
            "I can't keep on losing you, you can't keep losing you\n",
            "I can't keep on losing you, you can't keep losing you\n",
            "Uh uh\n",
            "My thoughts start coming up\n",
            "Making out, getting naked, it's like you forgot me\n",
            "I just dyed my hair blonde, that angelic color\n",
            "Don't you know me?\n",
            "I'm so lonely, I don't know what I gotta do\n",
            "To somebody, it's just a different beast\n",
            "Find them bugs, enjoy them, not so nice\n",
            "But please, don't tell someone that they're my loneliness\n",
            "A little pent up my pent up my\n",
            " sunshine my morning my cowboy\n",
            "You don't wanna live that life\n",
            "Where the fuck you taking me to war?\n",
            "Talk a crack without a cage\n",
            "Like I'm heroin fiend or giant wuss\n",
            "This bitch talk a crack without a cage\n",
            "Like I'm heroin fiend or giant wuss\n",
            "This bitch talk a crack without a cage\n",
            "Like I keep getting hotter, she like it\n",
            "We gon' take care of each other, we don't need to worry about each other\n",
            "Take me to the nasties, where the devil is in the details\n",
            "\n",
            "Don't you ever wanna hide away\n",
            "Pass me my Hennessy and my Grand Marnier\n",
            "If you would, I'm willing to take the motherfuckin' out\n",
            "\n",
            "I blow a spliff before it goes missing\n",
            "Cause I'm playin' games of hide and seek, tinkering out in my attic\n",
            "Dealing with demons, I learn something new every day\n",
            "I eat better, go stronger, intensify my sleep\n",
            "I know I made a crazy person, but I don't expect that from me\n",
            "I keep getting crazier, you like it, I keep you waiting\n",
            "Feel like I'm running late, my hands getting bloody is like watching horror movies\n",
            "Treat this piss like I'm a cold, I don't drink this, cough this\n",
            "Hand on my hips, thumb on my hip\n",
            "Me standing on my balcony, looking at the street\n",
            "All that rain, thinking it'll be all that amazing\n",
            "Can't decide anymore, can't decide to stay above the clouds\n",
            "I'm just tryna grow up old and rich\n",
            "Maybe get married to this bitch, break the vow\n",
            "Or are you sure you want to leave my world forever\n",
            "It'll be alright, no way\n",
            "\n",
            "See the world you didn't see till today\n",
            "I'm only human, I'm tryna live my life\n",
            "Sacrificin' love, hate, hate\n",
            "Fire retardant, you can't keep smoke out\n",
            "I don't deserve your love, give me your autograph\n",
            "Chillin' to get my pictures, come get my signatures\n",
            "Money in my hat, I'ma give it to you\n",
            "Circumstances advance you, trust me, they ain't around\n",
            "I ahead optimally, my eyes light up with activity\n",
            "The plan is to the death, keep on tryna end them\n",
            "Years on the plan, you can bet your ass I'mgs on it\n",
            "Tryna get my soul erased, the only thing that keep on keeping on\n",
            "Getting harder, hope you saved my moment\n",
            "You don't have to cry, we been fucka's\n",
            "Crucifix heavy, who gon' carry mine?\n",
            "Don't let the cameras out my window, we on our way\n",
            "\n",
            "I'm just tryna grow up old and rich\n",
            "Maybe get married to this bitch, break the oath\n",
            "Fuck who don't like me, I'm just tryna live up to my billing\n",
            "Name the game like you like tennis, then drop it like a second\n",
            "Stop being such a rebel, be what you like, I started from scratch\n",
            "Bitch, thank God I got a good career\n",
            "I'm just tryna grow up old and rich\n",
            "And smoke hashish, I hope so\n",
            "You don't have to cry\n",
            "\n",
            "[410 | 1868.04] loss=0.04 avg=0.60\n",
            "[420 | 1912.69] loss=0.04 avg=0.59\n",
            "[430 | 1957.36] loss=0.04 avg=0.57\n",
            "[440 | 2002.03] loss=0.06 avg=0.56\n",
            "[450 | 2046.69] loss=0.05 avg=0.54\n",
            "[460 | 2091.33] loss=0.04 avg=0.53\n",
            "[470 | 2135.94] loss=0.03 avg=0.52\n",
            "[480 | 2180.61] loss=0.04 avg=0.50\n",
            "[490 | 2225.28] loss=0.03 avg=0.49\n",
            "[500 | 2269.90] loss=0.03 avg=0.48\n",
            "[510 | 2314.54] loss=0.03 avg=0.47\n",
            "[520 | 2359.12] loss=0.05 avg=0.46\n",
            "[530 | 2403.69] loss=0.04 avg=0.45\n",
            "[540 | 2448.25] loss=0.03 avg=0.44\n",
            "[550 | 2492.85] loss=0.03 avg=0.43\n",
            "[560 | 2537.47] loss=0.03 avg=0.42\n",
            "[570 | 2582.10] loss=0.03 avg=0.41\n",
            "[580 | 2626.75] loss=0.03 avg=0.40\n",
            "[590 | 2671.36] loss=0.02 avg=0.39\n",
            "[600 | 2715.84] loss=0.04 avg=0.39\n",
            "Saving checkpoint/run1/model-600\n"
          ],
          "name": "stdout"
        }
      ]
    },
    {
      "cell_type": "code",
      "metadata": {
        "id": "0qZHaeSK_0_v"
      },
      "source": [
        "gpt2_simple.copy_checkpoint_to_gdrive(run_name='run1')"
      ],
      "execution_count": 12,
      "outputs": []
    },
    {
      "cell_type": "code",
      "metadata": {
        "colab": {
          "base_uri": "https://localhost:8080/"
        },
        "id": "rJzH2PAm_1Ct",
        "outputId": "56f4b190-ecef-4cfe-dd1c-5bd98d993f61"
      },
      "source": [
        "gpt2_simple.generate(sess, run_name='run1', length=1024)"
      ],
      "execution_count": 13,
      "outputs": [
        {
          "output_type": "stream",
          "text": [
            "We're rolling, we're gon' be out here in a blaze\n",
            "Been high on this incline, going in with a zippier stack\n",
            "I'm trippy, I like to put the little things first\n",
            "Started out solo and quickly got me into the studio\n",
            "Then I put some people I love in there\n",
            "All I really wanna do is procreate\n",
            "I'm trippy, I like to put the little things first\n",
            "Started out solo and quickly got me into the studio\n",
            "Then I put some people I love in there\n",
            "All I really wanna do is procreate\n",
            "I'm trippy, I like to put the little things first\n",
            "Started out solo and quickly got me into the studio\n",
            "Then I put some people I love in there\n",
            "All I really wanna do is procreate\n",
            "\n",
            "Yeah, trippy\n",
            "Yeah, up next is Rush\n",
            "They say I got next (they say I got)\n",
            "I just wanna get stronger\n",
            "Get this up, get this up\n",
            "Get this up, get this up\n",
            "Get this up, get this up\n",
            "\n",
            "Yeah, trippy\n",
            "Yeah, up next is Future\n",
            "With a little effort, I think I'm on the right track\n",
            "If you gonna put me in a room with a bunch of these other rappers, shit will get tricky\n",
            "Soon as I get my wig whipped up and dicked up\n",
            "Coming through the bars, cigarette butts in the street, drinking wine and smoking\n",
            "I in, out in the world, in my head\n",
            "\n",
            "Yeah, trippy\n",
            "Yeah, up next is Future\n",
            "With a little effort, I think I'm on the right track\n",
            "If you gonna put me in a room with a bunch of these other rappers, shit will get tricky\n",
            "Soon as I get my wig whipped up and dicked up\n",
            "Coming through the bars, cigarette butts in the street, drinking wine and smoking\n",
            "\n",
            "\n",
            "Somebody do something (Somebody do something)\n",
            "Yeah, yeah, yeah\n",
            "Somebody do something (Somebody do something)\n",
            "Somebody do something (Somebody do something)\n",
            "Yeah, yeah, yeah\n",
            "Somebody do something\n",
            "\n",
            "Yeah, yeah, yeah\n",
            "Somebody do something\n",
            "\n",
            "Yeah, yeah, yeah\n",
            "Somebody do something\n",
            "\n",
            "Sometimes I wake up, up in the morning, make up\n",
            "Wipe the smudge of makeup off my bed\n",
            "Soon as she’s gone and take up\n",
            "Hours out my day just to find power shit to say\n",
            "But you won't hear it\n",
            "Even if your ears was pierced with Beats by Dre\n",
            "I mean the sun is slowly falling, we all surely should die eventually\n",
            "So what's your calling? Oh you left your phone behind?\n",
            "Identity crises break mirrors, vices steer us through wickedness\n",
            "Jesus Christ is right near us and Devil said you owe ten percent\n",
            "Sold your soul, I know, sold your soul and you're hopeless\n",
            "My focus, stare at elopin' on boats that float in the open\n",
            "Of oceans that coast the line on the margins I rhyme, choking\n",
            "Or soaking up game, I'm hoping you picked the second one\n",
            "Change the emotion of jealousy that you're holding\n",
            "You're telling me that you're golden but really cubic zirconia\n",
            "Let me see, I'll break you down like a pound of fire, whenever\n",
            "Your tactics are mighty clever but even if you Mayweather, you\n",
            "\n",
            "You can't fight the feeling, feeling\n",
            "You can't fight the feeling, no (it won't stop!)\n",
            "You can't fight the feeling\n",
            "You can't fight the feeling, no\n",
            "\n",
            "(women moaning)\n",
            "Hallelujah, thank God I have a future\n",
            "Praying I don't waste it getting faded\n",
            "Cause I'm smoking *censored* 'til I'm coughing up tar\n",
            "Through the surge, energy curve like a lumbar\n",
            "I don't act hard, I still read Babar\n",
            "Tripping out, looking at a bunch of Google map stars\n",
            "Shit, they got a app for... that\n",
            "\n",
            "But me, I'm still trapped inside my head\n",
            "It kinda feel like it's a purgatory\n",
            "So polite and white, but I got family who would murder for me\n",
            "Think I'm living paradise, so would I have to worry 'bout?\n",
            "Dealing with these demons, feel the pressure\n",
            "Find the perfect style\n",
            "Making sure my mom and dad are still somewhat in love\n",
            "All these backfires of my experiments with drugs\n",
            "And I experience the touch of my epiphany in color form\n",
            "The difference between love and war inform me\n",
            "I'm above the norm\n",
            "But, give me anybody though, I'll gladly chew his face off, them bath salts\n",
            "Rhyming like it's summertime on asphalt, hot\n",
            "Haven't picked a major label, think I'm blackballed\n",
            "I still don't got the heart to pick my phone up when my dad calls\n"
          ],
          "name": "stdout"
        }
      ]
    }
  ]
}